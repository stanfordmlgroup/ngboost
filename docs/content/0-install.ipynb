{
 "cells": [
  {
   "cell_type": "markdown",
   "metadata": {},
   "source": [
    "# Installation\n",
    "\n",
    "NGBoost is easy to install using pip:\n",
    "\n",
    "```\n",
    "pip install --upgrade nboost\n",
    "```\n",
    "\n",
    "although we recommend installing the most up-to-date version from github:\n",
    "\n",
    "```\n",
    "pip install --upgrade git+https://github.com/stanfordmlgroup/ngboost.git\n",
    "```"
   ]
  }
 ],
 "metadata": {
  "kernelspec": {
   "display_name": "Python 3",
   "language": "python",
   "name": "python3"
  },
  "language_info": {
   "codemirror_mode": {
    "name": "ipython",
    "version": 3
   },
   "file_extension": ".py",
   "mimetype": "text/x-python",
   "name": "python",
   "nbconvert_exporter": "python",
   "pygments_lexer": "ipython3",
   "version": "3.7.6"
  }
 },
 "nbformat": 4,
 "nbformat_minor": 4
}
